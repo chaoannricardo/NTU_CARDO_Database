{
 "cells": [
  {
   "cell_type": "code",
   "execution_count": 8,
   "metadata": {},
   "outputs": [],
   "source": [
    "import pandas as pd\n",
    "import numpy as np"
   ]
  },
  {
   "cell_type": "code",
   "execution_count": 26,
   "metadata": {},
   "outputs": [
    {
     "name": "stdout",
     "output_type": "stream",
     "text": [
      "活動名稱 :0311_影流文創/ 【CARDO】108-2 TIP 企業實習計畫說明會\n"
     ]
    }
   ],
   "source": [
    "data = pd.read_excel(\"X:/Storage/Github/Data/Test_InitiateBuild/0311報名者資料_登錄出席.xls\", header=None,\n",
    "                    encoding='big5')\n",
    "# print(data.head())\n",
    "first_row_list = [str(j) for i, j in enumerate(data.iloc[0, :].tolist())]\n",
    "activity_name = max(first_row_list, key=len)\n",
    "print(activity_name)\n",
    "\n",
    "# data = data.iloc[1:, :]\n",
    "# data.columns = data.iloc[0, :]\n",
    "# data = data.iloc[1:, :]\n",
    "# print(data.columns)\n",
    "# # print(data.head())\n",
    "\n",
    "\n",
    "# data.to_csv(\"X:/Storage/Github/Data/Test_InitiateBuild/0311_testing_usage.csv\", \n",
    "#            encoding='utf8', index=None, header=None)"
   ]
  }
 ],
 "metadata": {
  "kernelspec": {
   "display_name": "normal",
   "language": "python",
   "name": "normal"
  },
  "language_info": {
   "codemirror_mode": {
    "name": "ipython",
    "version": 3
   },
   "file_extension": ".py",
   "mimetype": "text/x-python",
   "name": "python",
   "nbconvert_exporter": "python",
   "pygments_lexer": "ipython3",
   "version": "3.7.7"
  }
 },
 "nbformat": 4,
 "nbformat_minor": 4
}
